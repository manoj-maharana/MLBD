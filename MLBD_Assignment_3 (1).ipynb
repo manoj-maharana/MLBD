{
  "nbformat": 4,
  "nbformat_minor": 0,
  "metadata": {
    "colab": {
      "provenance": []
    },
    "kernelspec": {
      "name": "python3",
      "display_name": "Python 3"
    },
    "language_info": {
      "name": "python"
    },
    "accelerator": "TPU",
    "gpuClass": "standard"
  },
  "cells": [
    {
      "cell_type": "code",
      "execution_count": null,
      "metadata": {
        "colab": {
          "base_uri": "https://localhost:8080/"
        },
        "id": "wHtCVvX1XX6B",
        "outputId": "bcaa3422-bf53-442e-b036-43a500cc3b5a"
      },
      "outputs": [
        {
          "output_type": "stream",
          "name": "stdout",
          "text": [
            "Archive:  /content/archive.zip\n",
            "  inflating: mnist_test.csv          \n",
            "  inflating: mnist_train.csv         \n"
          ]
        }
      ],
      "source": [
        "!unzip /content/archive.zip\n"
      ]
    },
    {
      "cell_type": "code",
      "source": [
        "import csv\n",
        "import numpy as np"
      ],
      "metadata": {
        "id": "QjdXAZi8Yj6H"
      },
      "execution_count": null,
      "outputs": []
    },
    {
      "cell_type": "markdown",
      "source": [
        "Using the raw binary features, implement the streaming Naive Bayes algorithm and classify\n",
        "the test data."
      ],
      "metadata": {
        "id": "E_IaST8w66gj"
      }
    },
    {
      "cell_type": "code",
      "source": [
        "\n",
        "import pandas as pd\n",
        "import numpy as np\n",
        "\n",
        "class NaiveBayes:\n",
        "    def __init__(self):\n",
        "        self.class_priors_ = None\n",
        "        self.feature_counts_ = None\n",
        "        self.classes_ = None\n",
        "\n",
        "    def fit(self, X, y):\n",
        "        n_samples, n_features = X.shape\n",
        "        self.classes_ = np.unique(y)\n",
        "        n_classes = len(self.classes_)\n",
        "\n",
        "        self.class_priors_ = np.zeros(n_classes)\n",
        "        self.feature_counts_ = np.zeros((n_classes, n_features, X.max()+1))\n",
        "\n",
        "        for c in self.classes_:\n",
        "            X_c = X[c == y]\n",
        "            self.class_priors_[c] = X_c.shape[0] / n_samples\n",
        "            for j in range(n_features):\n",
        "                values, counts = np.unique(X_c[:, j], return_counts=True)\n",
        "                self.feature_counts_[c, j, values] += counts\n",
        "\n",
        "        return self\n",
        "\n",
        "    def predict(self, X):\n",
        "        posteriors = []\n",
        "        for i, x in enumerate(X):\n",
        "            # Compute posterior for each class\n",
        "            posterior = np.zeros(len(self.classes_))\n",
        "            for c in self.classes_:\n",
        "                log_likelihood = np.sum(np.log(self.feature_counts_[c, np.arange(len(x)), x]))\n",
        "                log_prior = np.log(self.class_priors_[c])\n",
        "                posterior[c] = log_likelihood + log_prior\n",
        "\n",
        "            # Normalize to obtain probabilities\n",
        "            posterior = np.exp(posterior - np.max(posterior))\n",
        "            posterior /= np.sum(posterior)\n",
        "            posteriors.append(posterior)\n",
        "\n",
        "        return np.argmax(posteriors, axis=1)\n",
        "\n",
        "# Load the data\n",
        "train_data = pd.read_csv(\"/content/mnist_train.csv\").values\n",
        "test_data = pd.read_csv(\"/content/mnist_test.csv\").values\n",
        "\n",
        "# Split into features and labels\n",
        "X_train = train_data[:, 1:]\n",
        "y_train = train_data[:, 0]\n",
        "X_test = test_data[:, 1:]\n",
        "y_test = test_data[:, 0]\n",
        "\n",
        "# Create and fit the model\n",
        "clf = NaiveBayes()\n",
        "clf.fit(X_train, y_train)\n",
        "\n",
        "# Make predictions on the test data\n",
        "y_pred = clf.predict(X_test)\n",
        "\n",
        "# Compute accuracy\n",
        "accuracy = np.mean(y_pred == y_test)\n",
        "print(f\"Accuracy: {accuracy}\")\n",
        "\n"
      ],
      "metadata": {
        "colab": {
          "base_uri": "https://localhost:8080/"
        },
        "id": "Y2KBxbhjYvcS",
        "outputId": "0674645f-37a2-424c-8de8-0a6125b5cc51"
      },
      "execution_count": null,
      "outputs": [
        {
          "output_type": "stream",
          "name": "stderr",
          "text": [
            "<ipython-input-22-caad2c2f68ab>:33: RuntimeWarning: divide by zero encountered in log\n",
            "  log_likelihood = np.sum(np.log(self.feature_counts_[c, np.arange(len(x)), x]))\n",
            "<ipython-input-22-caad2c2f68ab>:38: RuntimeWarning: invalid value encountered in subtract\n",
            "  posterior = np.exp(posterior - np.max(posterior))\n"
          ]
        },
        {
          "output_type": "stream",
          "name": "stdout",
          "text": [
            "Accuracy: 0.3988\n"
          ]
        }
      ]
    },
    {
      "cell_type": "markdown",
      "source": [
        "Project the binary features into a lower dimensional space using a dimensionality reduction\n",
        "technique of your choice (such as PCA, LDA, t-SNE, etc.), by varying the dimensionality in the\n",
        "range {50,100,200}, and classify the test data using the same algorithm."
      ],
      "metadata": {
        "id": "8Iytvt_V9Ig8"
      }
    },
    {
      "cell_type": "code",
      "source": [
        "import numpy as np\n",
        "import pandas as pd\n",
        "from sklearn.naive_bayes import MultinomialNB\n",
        "from sklearn.decomposition import PCA\n",
        "from sklearn.metrics import accuracy_score\n",
        "import time\n",
        "\n",
        "# Load the data\n",
        "train_data = pd.read_csv('/content/mnist_train.csv')\n",
        "test_data = pd.read_csv('/content/mnist_test.csv')\n",
        "\n",
        "# Split features and labels\n",
        "X_train = train_data.iloc[:, 1:].values\n",
        "y_train = train_data.iloc[:, 0].values\n",
        "X_test = test_data.iloc[:, 1:].values\n",
        "y_test = test_data.iloc[:, 0].values\n",
        "\n",
        "# Convert pixel values to binary features\n",
        "X_train[X_train >= 128] = 1\n",
        "X_train[X_train < 128] = 0\n",
        "X_test[X_test >= 128] = 1\n",
        "X_test[X_test < 128] = 0\n",
        "\n",
        "# Dimensionality reduction using PCA\n",
        "dims = [50, 100, 200]\n",
        "for dim in dims:\n",
        "    pca = PCA(n_components=dim)\n",
        "    X_train_pca = pca.fit_transform(X_train)\n",
        "    X_test_pca = pca.transform(X_test)\n",
        "\n",
        "    # Train and test Naive Bayes classifier\n",
        "    nb = MultinomialNB()\n",
        "    start_time = time.time()\n",
        "    nb.fit(X_train_pca, y_train)\n",
        "    train_time = time.time() - start_time\n",
        "\n",
        "    start_time = time.time()\n",
        "    y_pred = nb.predict(X_test_pca)\n",
        "    test_time = time.time() - start_time\n",
        "\n",
        "    accuracy = accuracy_score(y_test, y_pred)\n",
        "    print(\"Dimensionality: {}\".format(dim))\n",
        "    print(\"Accuracy: {}\".format(accuracy))\n",
        "    print(\"Training time: {:.2f} s\".format(train_time))\n",
        "    print(\"Testing time: {:.2f} s\".format(test_time))\n",
        "    print(\"\")\n"
      ],
      "metadata": {
        "colab": {
          "base_uri": "https://localhost:8080/"
        },
        "id": "67tnX2Apmeg2",
        "outputId": "f5956f51-d22f-4988-a1f8-50846b9ced89"
      },
      "execution_count": null,
      "outputs": [
        {
          "output_type": "stream",
          "name": "stderr",
          "text": [
            "/usr/local/lib/python3.9/dist-packages/sklearn/decomposition/_pca.py:642: RuntimeWarning: invalid value encountered in divide\n",
            "  self.explained_variance_ratio_ = self.explained_variance_ / total_var\n"
          ]
        },
        {
          "output_type": "stream",
          "name": "stdout",
          "text": [
            "Dimensionality: 50\n",
            "Accuracy: 0.1135\n",
            "Training time: 0.10 s\n",
            "Testing time: 0.01 s\n",
            "\n"
          ]
        },
        {
          "output_type": "stream",
          "name": "stderr",
          "text": [
            "/usr/local/lib/python3.9/dist-packages/sklearn/decomposition/_pca.py:642: RuntimeWarning: invalid value encountered in divide\n",
            "  self.explained_variance_ratio_ = self.explained_variance_ / total_var\n"
          ]
        },
        {
          "output_type": "stream",
          "name": "stdout",
          "text": [
            "Dimensionality: 100\n",
            "Accuracy: 0.1135\n",
            "Training time: 0.07 s\n",
            "Testing time: 0.01 s\n",
            "\n"
          ]
        },
        {
          "output_type": "stream",
          "name": "stderr",
          "text": [
            "/usr/local/lib/python3.9/dist-packages/sklearn/decomposition/_pca.py:642: RuntimeWarning: invalid value encountered in divide\n",
            "  self.explained_variance_ratio_ = self.explained_variance_ / total_var\n"
          ]
        },
        {
          "output_type": "stream",
          "name": "stdout",
          "text": [
            "Dimensionality: 200\n",
            "Accuracy: 0.1135\n",
            "Training time: 0.11 s\n",
            "Testing time: 0.01 s\n",
            "\n"
          ]
        }
      ]
    },
    {
      "cell_type": "code",
      "source": [
        "import numpy as np\n",
        "import pandas as pd\n",
        "from sklearn.naive_bayes import MultinomialNB\n",
        "from sklearn.decomposition import PCA\n",
        "from sklearn.metrics import accuracy_score\n",
        "import time\n",
        "\n",
        "# Load the data\n",
        "train_data = pd.read_csv('/content/mnist_train.csv')\n",
        "test_data = pd.read_csv('/content/mnist_test.csv')\n",
        "\n",
        "# Split features and labels\n",
        "X_train = train_data.iloc[:, 1:].values\n",
        "y_train = train_data.iloc[:, 0].values\n",
        "X_test = test_data.iloc[:, 1:].values\n",
        "y_test = test_data.iloc[:, 0].values\n",
        "\n",
        "# Convert pixel values to binary features\n",
        "X_train[X_train >= 128] = 1\n",
        "X_train[X_train < 128] = 0\n",
        "X_test[X_test >= 128] = 1\n",
        "X_test[X_test < 128] = 0\n",
        "\n",
        "# Dimensionality reduction using PCA\n",
        "dims = [50, 100, 200]\n",
        "for dim in dims:\n",
        "    pca = PCA(n_components=dim)\n",
        "    X_train_pca = pca.fit_transform(X_train)\n",
        "    X_test_pca = pca.transform(X_test)\n",
        "\n",
        "    # Train and test Naive Bayes classifier\n",
        "    nb = MultinomialNB()\n",
        "    start_time = time.time()\n",
        "    nb.fit(X_train_pca, y_train)\n",
        "    train_time = time.time() - start_time\n",
        "\n",
        "    start_time = time.time()\n",
        "    y_pred = nb.predict(X_test_pca)\n",
        "    test_time = time.time() - start_time\n",
        "\n",
        "    accuracy = accuracy_score(y_test, y_pred)\n",
        "    print(\"Dimensionality: {}\".format(dim))\n",
        "    print(\"Accuracy: {}\".format(accuracy))\n",
        "    print(\"Training time: {:.2f} s\".format(train_time))\n",
        "    print(\"Testing time: {:.2f} s\".format(test_time))\n",
        "    print(\"\")\n"
      ],
      "metadata": {
        "colab": {
          "base_uri": "https://localhost:8080/"
        },
        "id": "8hb-oanP7GzW",
        "outputId": "eb5622c0-b8b2-4f38-b278-a2530ea0ceef"
      },
      "execution_count": null,
      "outputs": [
        {
          "output_type": "stream",
          "name": "stderr",
          "text": [
            "/usr/local/lib/python3.9/dist-packages/sklearn/decomposition/_pca.py:642: RuntimeWarning: invalid value encountered in divide\n",
            "  self.explained_variance_ratio_ = self.explained_variance_ / total_var\n"
          ]
        },
        {
          "output_type": "stream",
          "name": "stdout",
          "text": [
            "Dimensionality: 50\n",
            "Accuracy: 0.1135\n",
            "Training time: 0.05 s\n",
            "Testing time: 0.00 s\n",
            "\n"
          ]
        },
        {
          "output_type": "stream",
          "name": "stderr",
          "text": [
            "/usr/local/lib/python3.9/dist-packages/sklearn/decomposition/_pca.py:642: RuntimeWarning: invalid value encountered in divide\n",
            "  self.explained_variance_ratio_ = self.explained_variance_ / total_var\n"
          ]
        },
        {
          "output_type": "stream",
          "name": "stdout",
          "text": [
            "Dimensionality: 100\n",
            "Accuracy: 0.1135\n",
            "Training time: 0.13 s\n",
            "Testing time: 0.01 s\n",
            "\n"
          ]
        },
        {
          "output_type": "stream",
          "name": "stderr",
          "text": [
            "/usr/local/lib/python3.9/dist-packages/sklearn/decomposition/_pca.py:642: RuntimeWarning: invalid value encountered in divide\n",
            "  self.explained_variance_ratio_ = self.explained_variance_ / total_var\n"
          ]
        },
        {
          "output_type": "stream",
          "name": "stdout",
          "text": [
            "Dimensionality: 200\n",
            "Accuracy: 0.1135\n",
            "Training time: 0.11 s\n",
            "Testing time: 0.01 s\n",
            "\n"
          ]
        }
      ]
    },
    {
      "cell_type": "code",
      "source": [
        "import numpy as np\n",
        "from sklearn.decomposition import PCA\n",
        "from sklearn.naive_bayes import GaussianNB\n",
        "import time\n",
        "\n",
        "# Load the data\n",
        "train_data = np.loadtxt(\"/content/mnist_train.csv\", delimiter=\",\", skiprows=1)\n",
        "test_data = np.loadtxt(\"/content/mnist_test.csv\", delimiter=\",\", skiprows=1)\n",
        "\n",
        "# Split the data into features and labels\n",
        "train_y = train_data[:, 0].astype(int)\n",
        "train_X = train_data[:, 1:]\n",
        "test_y = test_data[:, 0].astype(int)\n",
        "test_X = test_data[:, 1:]\n",
        "\n",
        "# Preprocess the data\n",
        "train_X[train_X < 128] = 0\n",
        "train_X[train_X >= 128] = 1\n",
        "test_X[test_X < 128] = 0\n",
        "test_X[test_X >= 128] = 1\n",
        "\n",
        "# Naive Bayes with Features\n",
        "\n",
        "def fit_predict(train_X, train_y, test_X, n_components):\n",
        "    pca = PCA(n_components=n_components)\n",
        "    train_X_reduced = pca.fit_transform(train_X)\n",
        "    test_X_reduced = pca.transform(test_X)\n",
        "    clf = GaussianNB()\n",
        "    start_time = time.time()\n",
        "    clf.fit(train_X_reduced, train_y)\n",
        "    elapsed_time_train = time.time() - start_time\n",
        "    start_time = time.time()\n",
        "    predictions = clf.predict(test_X_reduced)\n",
        "    elapsed_time_test = time.time() - start_time\n",
        "    accuracy = np.mean(predictions == test_y)\n",
        "    return accuracy, elapsed_time_train, elapsed_time_test\n",
        "\n",
        "# Evaluate both approaches for different dimensions\n",
        "\n",
        "dimensions = [50, 100, 200]\n",
        "\n",
        "# Naive Bayes with Features\n",
        "print(\"Naive Bayes \\n\")\n",
        "for dim in dimensions:\n",
        "    print(\"Dimension:\", dim)\n",
        "    accuracy, elapsed_time_train, elapsed_time_test = fit_predict(train_X, train_y, test_X, dim)\n",
        "    print(\"Accuracy:\", accuracy)\n",
        "    print(\"Training Time:\", elapsed_time_train, \"seconds\")\n",
        "    print(\"Testing Time:\", elapsed_time_test, \"seconds\\n\")\n"
      ],
      "metadata": {
        "colab": {
          "base_uri": "https://localhost:8080/"
        },
        "id": "4-0KCbYd6b87",
        "outputId": "73d2d8a1-bcde-4ee5-b79f-8bb2c8add48e"
      },
      "execution_count": null,
      "outputs": [
        {
          "output_type": "stream",
          "name": "stdout",
          "text": [
            "Naive Bayes with Features\n",
            "\n",
            "Dimension: 50\n",
            "Accuracy: 0.8758\n",
            "Training Time: 0.08437061309814453 seconds\n",
            "Testing Time: 0.03549027442932129 seconds\n",
            "\n",
            "Dimension: 100\n",
            "Accuracy: 0.8807\n",
            "Training Time: 0.1913907527923584 seconds\n",
            "Testing Time: 0.0699911117553711 seconds\n",
            "\n",
            "Dimension: 200\n",
            "Accuracy: 0.8848\n",
            "Training Time: 0.2229290008544922 seconds\n",
            "Testing Time: 0.11449623107910156 seconds\n",
            "\n"
          ]
        }
      ]
    }
  ]
}